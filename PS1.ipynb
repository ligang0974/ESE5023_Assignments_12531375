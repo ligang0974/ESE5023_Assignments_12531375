{
 "cells": [
  {
   "cell_type": "code",
   "execution_count": 56,
   "id": "47b1e652-e8bf-4710-9db2-e79d0f91ca1e",
   "metadata": {},
   "outputs": [
    {
     "name": "stdout",
     "output_type": "stream",
     "text": [
      "None\n"
     ]
    }
   ],
   "source": [
    "# 1.Flowchart\n",
    "\n",
    "def Print_values(a, b, c):\n",
    "    result = \"None\"\n",
    "    if a > b:\n",
    "        if b > c:\n",
    "            print(a, b, c)\n",
    "            result = a + b - 10 * c\n",
    "            print(result)\n",
    "        else:\n",
    "            if a > c:\n",
    "                print(a, c, b)\n",
    "                result = a + c - 10 * b\n",
    "                print(result)\n",
    "            else:\n",
    "                print(c, a, b)\n",
    "                result = c + a - 10 * b\n",
    "                print(result)\n",
    "    else:\n",
    "        if b <= c:\n",
    "            print(c, b, a)\n",
    "            result = c + b - 10 * a\n",
    "            print(result)\n",
    "\n",
    "    return result\n",
    "x = Print_values(5, 15, 10)\n",
    "print(x)"
   ]
  },
  {
   "cell_type": "code",
   "execution_count": 57,
   "id": "e33ac51c-e0d7-44c5-abcb-8ee7495f21ce",
   "metadata": {},
   "outputs": [
    {
     "name": "stdin",
     "output_type": "stream",
     "text": [
      "请输入列表元素（用空格分隔）:  1 2 3 \n"
     ]
    },
    {
     "name": "stdout",
     "output_type": "stream",
     "text": [
      "[1, 5, 7]\n"
     ]
    }
   ],
   "source": [
    "# 2. Continuous celing function\n",
    "\n",
    "def calculate_F(x_list):\n",
    "    cache = {}\n",
    "    def F(x):\n",
    "        if x == 1:\n",
    "            return 1\n",
    "        if x in cache:\n",
    "            return cache[x]\n",
    "        ceil_x = (x + 2) // 3\n",
    "        result = F(ceil_x) + 2 * x\n",
    "        cache[x] = result\n",
    "        return result\n",
    "    results = []\n",
    "    for x in x_list:\n",
    "        results.append(F(x))\n",
    "    return results\n",
    "\n",
    "input_list = input(f\"请输入列表元素（用空格分隔）: \")\n",
    "x_list = list(map(int, input_list.split()))\n",
    "output_list = calculate_F(x_list)\n",
    "print(output_list)"
   ]
  },
  {
   "cell_type": "code",
   "execution_count": 63,
   "id": "c0395c63-9508-441d-9f92-99ca5726f559",
   "metadata": {},
   "outputs": [
    {
     "name": "stdout",
     "output_type": "stream",
     "text": [
      "10个骰子总和为25的方法数: 85228\n"
     ]
    }
   ],
   "source": [
    "# 3. Dice rolling\n",
    "# 3.1\n",
    "\n",
    "def find_number_of_ways(x):\n",
    "    if x < 10 or x > 60:\n",
    "        return 0    \n",
    "    def roll_dice(dice_num, current_sum):\n",
    "        if dice_num == 0:\n",
    "            return 1 if current_sum == x else 0\n",
    "        total_ways = 0\n",
    "        for points in range(1, 7):\n",
    "            if current_sum + points <= x:  \n",
    "               total_ways = total_ways + roll_dice(dice_num - 1, current_sum + points)  \n",
    "        return total_ways\n",
    "    return roll_dice(10, 0)\n",
    "#测试结果\n",
    "result = find_number_of_ways(20) \n",
    "print(f\"10个骰子总和为25的方法数: {result}\")"
   ]
  },
  {
   "cell_type": "code",
   "execution_count": 65,
   "id": "c9a4eb3f-3338-481f-a9cd-7f74e99044cc",
   "metadata": {},
   "outputs": [
    {
     "name": "stdout",
     "output_type": "stream",
     "text": [
      "最大值出现在 x = 35\n",
      "有 4395456 种方式\n"
     ]
    }
   ],
   "source": [
    "# 3.2\n",
    "\n",
    "Number_of_ways = []\n",
    "for x in range(10, 61):\n",
    "    ways = find_number_of_ways(x)\n",
    "    Number_of_ways.append(ways)\n",
    "\n",
    "max_ways = max(Number_of_ways)\n",
    "max_index = Number_of_ways.index(max_ways)\n",
    "max_x = max_index + 10 \n",
    "\n",
    "print(f\"最大值出现在 x = {max_x}\")\n",
    "print(f\"有 {max_ways} 种方式\")"
   ]
  },
  {
   "cell_type": "code",
   "execution_count": null,
   "id": "38333458-27b9-421c-b328-91c008289fb6",
   "metadata": {},
   "outputs": [],
   "source": []
  },
  {
   "cell_type": "code",
   "execution_count": 35,
   "id": "b056ec91-5bcf-45d0-949e-c40e987b4ad8",
   "metadata": {},
   "outputs": [
    {
     "name": "stdout",
     "output_type": "stream",
     "text": [
      "生成10个随机数:\n",
      "[9, 8, 1, 9, 6, 5, 1, 8, 3, 4]\n"
     ]
    }
   ],
   "source": [
    "# 4. Dynamic programming\n",
    "# 4.1\n",
    "\n",
    "import random\n",
    "def Random_integer(N):\n",
    "    result_list = []\n",
    "    for i in range(N):\n",
    "        random_number = random.randint(0, 10)\n",
    "        result_list.append(random_number)\n",
    "    return result_list\n",
    "print(\"生成10个随机数:\")\n",
    "my_random_numbers = Random_integer(10)\n",
    "print(my_random_numbers)"
   ]
  },
  {
   "cell_type": "code",
   "execution_count": 44,
   "id": "c3594e96-cfd0-480c-923e-0d24bd1088b1",
   "metadata": {},
   "outputs": [
    {
     "name": "stdout",
     "output_type": "stream",
     "text": [
      "\n",
      "最终结果: 12.0\n"
     ]
    }
   ],
   "source": [
    "# 4.2\n",
    "\n",
    "def Sum_averages(arr):\n",
    "    total_sum = 0\n",
    "    n = len(arr)\n",
    "    for length in range(1, n + 1):\n",
    "        # print(f\"\\n计算长度为 {length} 的子集:\")\n",
    "        for start in range(n - length + 1):\n",
    "            subset = arr[start:start + length]\n",
    "            average = sum(subset) / length\n",
    "            total_sum += average  \n",
    "            # print(f\"  子集 {subset} 的平均值 = {average}\")   \n",
    "    return total_sum\n",
    "\n",
    "# 测试结果\n",
    "arr = [1, 2, 3]\n",
    "result = Sum_averages(arr)\n",
    "print(f\"\\n最终结果: {result}\")"
   ]
  },
  {
   "cell_type": "code",
   "execution_count": 55,
   "id": "4a91e2b7-fa46-47bc-8d61-65f4f4c73b9d",
   "metadata": {},
   "outputs": [
    {
     "name": "stdout",
     "output_type": "stream",
     "text": [
      "\n",
      "最终结果: [1.0, 4.5, 12.0, 25.0, 45.0, 73.5, 112.0, 162.0, 225.0, 302.5, 396.0, 507.0, 637.0, 787.5, 960.0, 1156.0, 1377.0, 1624.5, 1900.0, 2205.0, 2541.0, 2909.5, 3312.0, 3750.0, 4225.0, 4738.5, 5292.0, 5887.0, 6525.0, 7207.5, 7936.0, 8712.0, 9537.0, 10412.5, 11340.0, 12321.0, 13357.0, 14449.5, 15600.0, 16810.0, 18081.0, 19414.5, 20812.0, 22275.0, 23805.0, 25403.5, 27072.0, 28812.0, 30625.0, 32512.5, 34476.0, 36517.0, 38637.0, 40837.5, 43120.0, 45486.0, 47937.0, 50474.5, 53100.0, 55815.0, 58621.0, 61519.5, 64512.0, 67600.0, 70785.0, 74068.5, 77452.0, 80937.0, 84525.0, 88217.5, 92016.0, 95922.0, 99937.0, 104062.5, 108300.0, 112651.0, 117117.0, 121699.5, 126400.0, 131220.0, 136161.0, 141224.5, 146412.0, 151725.0, 157165.0, 162733.5, 168432.0, 174262.0, 180225.0, 186322.5, 192556.0, 198927.0, 205437.0, 212087.5, 218880.0, 225816.0, 232897.0, 240124.5, 247500.0, 255025.0]\n"
     ]
    },
    {
     "data": {
      "image/png": "[encoded data removed]",
      "text/plain": [
       "<Figure size 640x480 with 1 Axes>"
      ]
     },
     "metadata": {},
     "output_type": "display_data"
    }
   ],
   "source": [
    "# 4.3\n",
    "\n",
    "import matplotlib.pyplot as plt\n",
    "Total_sum_averages = []\n",
    "for N in range(1, 101):\n",
    "    arr = list(range(1, N + 1))\n",
    "    result = Sum_averages(arr)\n",
    "    Total_sum_averages.append(result)\n",
    "print(f\"\\n最终结果: {Total_sum_averages}\")\n",
    "\n",
    "#绘图\n",
    "fig, ax = plt.subplots()\n",
    "ax.plot(range(1, 101), Total_sum_averages, 's-');"
   ]
  },
  {
   "cell_type": "code",
   "execution_count": null,
   "id": "87136da0-744a-49bf-9eca-c5b43a178322",
   "metadata": {},
   "outputs": [],
   "source": []
  },
  {
   "cell_type": "code",
   "execution_count": null,
   "id": "6c9fc93d-8ac6-4219-a130-c20f5ddd87c5",
   "metadata": {},
   "outputs": [],
   "source": [
    "# 5. Path counting\n",
    "# 5.1\n",
    "\n",
    "import random\n",
    "def create_matrix(N, M):\n",
    "    matrix = [[random.randint(0, 1) for _ in range(M)] for _ in range(N)]\n",
    "    matrix[0][0] = 1\n",
    "    matrix[N-1][M-1] = 1\n",
    "    return matrix\n",
    "    \n",
    "#测试\n",
    "create_matrix(10, 10)"
   ]
  },
  {
   "cell_type": "code",
   "execution_count": null,
   "id": "71f1be1a-9389-4aea-819b-862bacf4a2e1",
   "metadata": {},
   "outputs": [],
   "source": [
    "# 5.2\n",
    "\n",
    "def count_paths(matrix):\n",
    "    \n",
    "    rows = len(matrix)\n",
    "    cols = len(matrix[0])\n",
    "    \n",
    "    def dfs(i, j):\n",
    "        if i >= rows or j >= cols or matrix[i][j] == 0:\n",
    "            return 0\n",
    "        if i == rows-1 and j == cols-1:\n",
    "            return 1\n",
    "        return dfs(i, j+1) + dfs(i+1, j)\n",
    "    return dfs(0, 0)\n",
    "\n",
    "# 测试\n",
    "matrix = create_matrix(10, 10)\n",
    "for row in matrix:\n",
    "    print(row)\n",
    "print(f\"路径数: {count_paths(matrix)}\")\n"
   ]
  },
  {
   "cell_type": "code",
   "execution_count": null,
   "id": "9b995234-3650-4398-a88d-747e04100c20",
   "metadata": {},
   "outputs": [],
   "source": [
    "# 5.3\n",
    "\n",
    "N = 10\n",
    "M = 8\n",
    "num_runs = 1000\n",
    "\n",
    "total_paths = 0\n",
    "for i in range(num_runs):\n",
    "    matrix = create_matrix(N, M)\n",
    "    paths = count_paths(matrix)\n",
    "    total_paths += paths\n",
    "\n",
    "mean_paths = total_paths / num_runs\n",
    "\n",
    "print(f\"总路径数: {total_paths}\")\n",
    "print(f\"平均路径数: {mean_paths:.6f}\")"
   ]
  },
  {
   "cell_type": "code",
   "execution_count": null,
   "id": "19cb555e-3978-4708-aeb9-dbb38e27e45b",
   "metadata": {},
   "outputs": [],
   "source": []
  },
  {
   "cell_type": "code",
   "execution_count": null,
   "id": "d65ddbce-9ccf-405f-89be-7922de613a05",
   "metadata": {},
   "outputs": [],
   "source": []
  }
 ],
 "metadata": {
  "kernelspec": {
   "display_name": "Python 3 (ipykernel)",
   "language": "python",
   "name": "python3"
  },
  "language_info": {
   "codemirror_mode": {
    "name": "ipython",
    "version": 3
   },
   "file_extension": ".py",
   "mimetype": "text/x-python",
   "name": "python",
   "nbconvert_exporter": "python",
   "pygments_lexer": "ipython3",
   "version": "3.13.5"
  }
 },
 "nbformat": 4,
 "nbformat_minor": 5
}
